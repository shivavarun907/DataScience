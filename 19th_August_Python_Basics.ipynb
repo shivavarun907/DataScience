{
 "cells": [
  {
   "cell_type": "code",
   "execution_count": 1,
   "id": "3dae0038-d629-469e-99ea-8a4d33fbe107",
   "metadata": {},
   "outputs": [],
   "source": [
    "# TOPIC: Python Basics Variable"
   ]
  },
  {
   "cell_type": "code",
   "execution_count": 2,
   "id": "ad9fdb37-bd1f-41a0-978a-497f57761c16",
   "metadata": {},
   "outputs": [
    {
     "name": "stdout",
     "output_type": "stream",
     "text": [
      "\n",
      "Variable values before swap are  x= 5 ; y= 9\n",
      "\n",
      "Variable values after swap are   x= 9 ; y= 5\n"
     ]
    }
   ],
   "source": [
    "''' 1. Declare two variables, `x` and `y`, and assign them integer values. Swap the\n",
    "values of these variables without using any temporary variable.'''\n",
    "\n",
    "x = 5 # Declared an integer variable x with assignment of value 5\n",
    "y = 9 # Declared an integer variable y with assignment of value 9\n",
    "\n",
    "print(\"\") # Printing a space to the output for good and tidy output\n",
    "print(\"Variable values before swap are  x=\",x, \"; y=\",y)\n",
    "\n",
    "# Swapping of variable values between variable x and y \n",
    "x,y = y,x\n",
    "\n",
    "print(\"\") # Printing a space to the output for good and tidy output\n",
    "print(\"Variable values after swap are   x=\",x, \"; y=\",y)\n"
   ]
  },
  {
   "cell_type": "code",
   "execution_count": 3,
   "id": "f1d36508-e1a8-44d8-82ce-36fb1714fca9",
   "metadata": {},
   "outputs": [
    {
     "name": "stdout",
     "output_type": "stream",
     "text": [
      "Rectangle Area Calculator\n",
      "\n",
      "Enter the Length of the rectangle\n"
     ]
    },
    {
     "name": "stdin",
     "output_type": "stream",
     "text": [
      " 8\n"
     ]
    },
    {
     "name": "stdout",
     "output_type": "stream",
     "text": [
      "\n",
      "Enter the Width of the rectangle\n"
     ]
    },
    {
     "name": "stdin",
     "output_type": "stream",
     "text": [
      " 9\n"
     ]
    },
    {
     "name": "stdout",
     "output_type": "stream",
     "text": [
      "\n",
      "Length, Width of the rectangle entered are:  8  , 9\n",
      "\n",
      "Area of the rectangle =  72.0\n"
     ]
    }
   ],
   "source": [
    "''' 2. Create a program that calculates the area of a rectangle. Take the length and\n",
    "width as inputs from the user and store them in variables. Calculate and\n",
    "display the area.'''\n",
    "\n",
    "print(\"Rectangle Area Calculator\")\n",
    "print(\"\") # Printing a space to the output for good and tidy output\n",
    "\n",
    "print(\"Enter the Length of the rectangle\")\n",
    "a= input()   #Assigning user input to variable a to capture length; eg., Input a = 4.45\n",
    "\n",
    "print(\"\") # Printing a space to the output for good and tidy output\n",
    "\n",
    "print(\"Enter the Width of the rectangle\")\n",
    "b= input() #Assigning user input to variable a to capture length; eg., Input b = 5.32\n",
    "\n",
    "print(\"\") # Printing a space to the output for good and tidy output\n",
    "\n",
    "# Displaying the values of length and width of rectangle input by user \n",
    "print(\"Length, Width of the rectangle entered are: \", a ,\" ,\", b )  \n",
    "  \n",
    "print(\"\") # Printing a space to the output for good and tidy output\n",
    "\n",
    "# Converting variable value strings as float to support dec\n",
    "print(\"Area of the rectangle = \", float(a) * float(b) ) #Program calculates area as length * width of rectangle\n",
    "  "
   ]
  },
  {
   "cell_type": "code",
   "execution_count": 4,
   "id": "c4e86406-8a97-4a7e-98f2-1918a6896ad8",
   "metadata": {},
   "outputs": [
    {
     "name": "stdout",
     "output_type": "stream",
     "text": [
      "Temperature Converter from Celsius to Fahrenheit \n",
      "\n",
      "Enter the Temperature in Celcius \n"
     ]
    },
    {
     "name": "stdin",
     "output_type": "stream",
     "text": [
      " 36.2\n"
     ]
    },
    {
     "name": "stdout",
     "output_type": "stream",
     "text": [
      "\n",
      "Temperature in Fahrenheit is  97.16\n"
     ]
    }
   ],
   "source": [
    "''' 3. Write a Python program that converts temperatures from Celsius to\n",
    "Fahrenheit. Take the temperature in Celsius as input, store it in a variable,\n",
    "convert it to Fahrenheit, and display the result.'''\n",
    "\n",
    "\n",
    "print(\"Temperature Converter from Celsius to Fahrenheit \")\n",
    "print(\"\") # Printing a space to the output for good and tidy output\n",
    "\n",
    "print(\"Enter the Temperature in Celcius \")\n",
    "tempr= input()   #Assigning user input to variable; eg., Input tempr = 36.3\n",
    "\n",
    "print(\"\")  # Printing a space to the output for good and tidy output\n",
    "  \n",
    "print(\"Temperature in Fahrenheit is \", (float(tempr) * 9/5)+32 ) #Program calculates Temperature as 97.34\n",
    "  "
   ]
  },
  {
   "cell_type": "code",
   "execution_count": 5,
   "id": "7317e429-fb0e-4f71-8fe6-cca1d94c28ac",
   "metadata": {},
   "outputs": [],
   "source": [
    "# TOPIC: Python String based Questions"
   ]
  },
  {
   "cell_type": "code",
   "execution_count": 6,
   "id": "c32f0df6-5969-4418-b043-00fbd8e74a43",
   "metadata": {},
   "outputs": [
    {
     "name": "stdout",
     "output_type": "stream",
     "text": [
      "String Length Calculator\n",
      "========================\n",
      "\n",
      "Enter the String\n"
     ]
    },
    {
     "name": "stdin",
     "output_type": "stream",
     "text": [
      " dxjfgsidsdhfvbk bjbdv\n"
     ]
    },
    {
     "name": "stdout",
     "output_type": "stream",
     "text": [
      "\n",
      "Length of the string you input is  21\n"
     ]
    }
   ],
   "source": [
    "\"\"\" 1. Write a Python program that takes a string as input and prints the length of\n",
    "the string. \"\"\"\n",
    "\n",
    "\n",
    "print(\"String Length Calculator\")\n",
    "print(\"========================\")\n",
    "\n",
    "print(\"\") # Printing a space to the output for good and tidy output\n",
    "\n",
    "print(\"Enter the String\")\n",
    "string2= input()   #Assigning user input to variable; eg., Input a = 4.45\n",
    "\n",
    "print(\"\") # Printing a space to the output for good and tidy output\n",
    "\n",
    "print(\"Length of the string you input is \", len(string2)) #Program calculates Temperature as 97.34"
   ]
  },
  {
   "cell_type": "code",
   "execution_count": 7,
   "id": "755c1f7d-f1f9-485a-badd-71f26b8b458f",
   "metadata": {},
   "outputs": [
    {
     "name": "stdout",
     "output_type": "stream",
     "text": [
      "Vowels Counter\n",
      "==============\n",
      "\n",
      "Enter the String\n"
     ]
    },
    {
     "name": "stdin",
     "output_type": "stream",
     "text": [
      " rainbow\n"
     ]
    },
    {
     "name": "stdout",
     "output_type": "stream",
     "text": [
      "\n",
      "Number of vowels:  3\n"
     ]
    }
   ],
   "source": [
    "\"\"\" 2. Create a program that takes a sentence from the user and counts the number\n",
    "of vowels (a, e, i, o, u) in the string. \"\"\"\n",
    "\n",
    "\n",
    "print(\"Vowels Counter\")\n",
    "print(\"==============\")\n",
    "\n",
    "print(\"\") # Printing a space to the output for good and tidy output\n",
    "\n",
    "print(\"Enter the String\")\n",
    "string3= input()   #Assigning user input to variable ; eg., Input string3 = ABcDefghIjklmnOpqRSTuvWXYZ\n",
    "\n",
    "# Identifies the length of characters found in string matchin vowels in lower or upper case\n",
    "counter_1 = len([char for char in string3 if char in \"aeiouAEIOU\"]) \n",
    "\n",
    "print(\"\") # Printing a space to the output for good and tidy output\n",
    "\n",
    "print(\"Number of vowels: \", counter_1)"
   ]
  },
  {
   "cell_type": "code",
   "execution_count": 8,
   "id": "77f71d82-d5d8-4100-b8dd-fbafb8080a18",
   "metadata": {},
   "outputs": [
    {
     "name": "stdout",
     "output_type": "stream",
     "text": [
      "String Reversal\n",
      "===============\n",
      "\n",
      "Enter the String for reversal\n"
     ]
    },
    {
     "name": "stdin",
     "output_type": "stream",
     "text": [
      " sjhvbjklsbvlzvs'dv\n"
     ]
    },
    {
     "name": "stdout",
     "output_type": "stream",
     "text": [
      "\n",
      "Reverse string for your input is :  vd'svzlvbslkjbvhjs\n"
     ]
    }
   ],
   "source": [
    "\"\"\" 3. Given a string, reverse the order of characters using string slicing and print\n",
    "the reversed string. \"\"\"\n",
    "\n",
    "\n",
    "print(\"String Reversal\")\n",
    "print(\"===============\")\n",
    "\n",
    "print(\"\") # Printing a space to the output for good and tidy output\n",
    "\n",
    "print(\"Enter the String for reversal\")\n",
    "string4= input()   #Assigning user input to variable; eg., Input string3 = ABcDefghIjklmnOpqRSTuvWXYZ\n",
    "\n",
    "print(\"\") # Printing a space to the output for good and tidy output\n",
    "\n",
    "len(string4)\n",
    "\n",
    "print(\"Reverse string for your input is : \", string4[len(string4)::-1]) # or string4[::-1]  \n",
    "\n",
    "#print(\"Reverse string\",string4[::-1])"
   ]
  },
  {
   "cell_type": "code",
   "execution_count": 9,
   "id": "aa12bcd9-7b6a-46ae-b0b1-973c6f42a65b",
   "metadata": {},
   "outputs": [
    {
     "name": "stdout",
     "output_type": "stream",
     "text": [
      "Palindrome checker\n",
      "==================\n",
      "\n",
      "Enter the String for palindrome check\n"
     ]
    },
    {
     "name": "stdin",
     "output_type": "stream",
     "text": [
      " ASSAM\n"
     ]
    },
    {
     "name": "stdout",
     "output_type": "stream",
     "text": [
      "\n",
      "Input string ASSAM is NOT a Palindrome\n"
     ]
    }
   ],
   "source": [
    "\"\"\" 4. Write a program that takes a string as input and checks if it is a palindrome\n",
    "(reads the same forwards and backwards). \"\"\"\n",
    "\n",
    "\n",
    "print(\"Palindrome checker\")\n",
    "print(\"==================\")\n",
    "\n",
    "print(\"\") # Printing a space to the output for good and tidy output\n",
    "\n",
    "print(\"Enter the String for palindrome check\")\n",
    "string5= input()   #Assigning user input to variable; eg., Input string3 = 123454321\n",
    "\n",
    "print(\"\") # Printing a space to the output for good and tidy output\n",
    "\n",
    "string6 = string5[::-1]\n",
    " \n",
    "if (string6 == string5):\n",
    "  print (\"Input string\", string5, \"is a Palindrome\")\n",
    "else: \n",
    "  print (\"Input string\", string5, \"is NOT a Palindrome\")"
   ]
  },
  {
   "cell_type": "code",
   "execution_count": 10,
   "id": "bdca331c-2aa0-43c3-a97b-06b419d6fee0",
   "metadata": {},
   "outputs": [
    {
     "name": "stdout",
     "output_type": "stream",
     "text": [
      "String white space remover\n",
      "==========================\n",
      "\n",
      "Enter the String\n"
     ]
    },
    {
     "name": "stdin",
     "output_type": "stream",
     "text": [
      " dszkvszkjdvbszv ;sldkvjnzknv ALDSvhnKJv:LAKc 'A:LscjML m,zxn   ':LxcjLX nZn KLb lKJvh:vjvDSML m n 'pxzjcl;N  ; ooiv hjx: \n"
     ]
    },
    {
     "name": "stdout",
     "output_type": "stream",
     "text": [
      "\n",
      "String after removing spaces :  dszkvszkjdvbszv;sldkvjnzknvALDSvhnKJv:LAKc'A:LscjMLm,zxn':LxcjLXnZnKLblKJvh:vjvDSMLmn'pxzjcl;N;ooivhjx:\n"
     ]
    }
   ],
   "source": [
    "\"\"\" 5. Create a program that takes a string as input and removes all the spaces from\n",
    "it. Print the modified string without spaces. \"\"\"\n",
    "\n",
    "print(\"String white space remover\")\n",
    "print(\"==========================\")\n",
    "\n",
    "print(\"\") # Printing a space to the output for good and tidy output\n",
    "\n",
    "print(\"Enter the String\")\n",
    "string7= input()   #Assigning user input to variable; eg., Input string3 = 123454321\n",
    "\n",
    "print(\"\") # Printing a space to the output for good and tidy output\n",
    "\n",
    "print(\"String after removing spaces : \", string7.replace(\" \",\"\"))\n",
    "\n",
    "  "
   ]
  }
 ],
 "metadata": {
  "kernelspec": {
   "display_name": "Python 3 (ipykernel)",
   "language": "python",
   "name": "python3"
  },
  "language_info": {
   "codemirror_mode": {
    "name": "ipython",
    "version": 3
   },
   "file_extension": ".py",
   "mimetype": "text/x-python",
   "name": "python",
   "nbconvert_exporter": "python",
   "pygments_lexer": "ipython3",
   "version": "3.10.8"
  }
 },
 "nbformat": 4,
 "nbformat_minor": 5
}
